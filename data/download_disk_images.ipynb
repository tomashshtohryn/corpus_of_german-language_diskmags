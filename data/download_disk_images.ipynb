{
 "cells": [
  {
   "cell_type": "code",
   "execution_count": 1,
   "id": "initial_id",
   "metadata": {
    "collapsed": true,
    "ExecuteTime": {
     "end_time": "2024-01-02T12:21:42.352928400Z",
     "start_time": "2024-01-02T12:21:42.054542200Z"
    }
   },
   "outputs": [],
   "source": [
    "import os\n",
    "import pandas as pd\n",
    "import requests"
   ]
  },
  {
   "cell_type": "markdown",
   "source": [
    "# 1. Load data"
   ],
   "metadata": {
    "collapsed": false
   },
   "id": "6a3bd850ba168d37"
  },
  {
   "cell_type": "code",
   "execution_count": 2,
   "outputs": [],
   "source": [
    "with open('csv/mw_import.csv', encoding='utf-16') as main_dataset, open('csv/diskmags_csdb.csv', encoding='utf-8') as csdb_dataset, open('csv/diskmags_demozoo.csv', encoding='utf-8') as demozoo_dataset, open('csv/diskmags_pouet.csv', encoding='utf-8') as pouet_dataset:\n",
    "    df_main = pd.read_csv(main_dataset)\n",
    "    df_csdb = pd.read_csv(csdb_dataset)\n",
    "    df_demozoo = pd.read_csv(demozoo_dataset)\n",
    "    df_pouet = pd.read_csv(pouet_dataset)"
   ],
   "metadata": {
    "collapsed": false,
    "ExecuteTime": {
     "end_time": "2024-01-02T12:21:42.414788600Z",
     "start_time": "2024-01-02T12:21:42.355327Z"
    }
   },
   "id": "87cbf59a1068980"
  },
  {
   "cell_type": "markdown",
   "source": [
    "## 1.1 Create subset of German-language magazines for the Commodore 64"
   ],
   "metadata": {
    "collapsed": false
   },
   "id": "50656708bd86c069"
  },
  {
   "cell_type": "code",
   "execution_count": 3,
   "outputs": [],
   "source": [
    "df_main_german = df_main[df_main['Magazine[Language]'].apply(lambda x: isinstance(x,str) and 'German' in x.split('; '))]\n",
    "df_main_german = df_main_german[df_main_german['Magazine[Systems]'].apply(lambda x: isinstance(x,str) and 'Commodore 64' in x.split('; '))]\n",
    "df_main_german.to_csv('csv/mw_import_c64_german.csv', index=False)\n",
    "df_main_german['systems_lower'] = df_main_german['Magazine[Systems]'].apply(lambda x: x.lower() if isinstance(x, str) else None)"
   ],
   "metadata": {
    "collapsed": false,
    "ExecuteTime": {
     "end_time": "2024-01-02T12:21:42.425546800Z",
     "start_time": "2024-01-02T12:21:42.416789700Z"
    }
   },
   "id": "4d54a8484add17ad"
  },
  {
   "cell_type": "markdown",
   "source": [
    "## 1.2 Prepare other datsets"
   ],
   "metadata": {
    "collapsed": false
   },
   "id": "1e3017e849114940"
  },
  {
   "cell_type": "code",
   "execution_count": 4,
   "outputs": [],
   "source": [
    "df_csdb['system_lower'] = df_csdb['platform'].apply(lambda x: x.lower() if isinstance(x, str) else None)\n",
    "df_demozoo['system_lower'] = df_demozoo['platform'].apply(lambda x: x.lower() if isinstance(x, str) else None)\n",
    "df_pouet['system_lower'] = df_pouet['platform'].apply(lambda x: x.lower() if isinstance(x, str) else None)"
   ],
   "metadata": {
    "collapsed": false,
    "ExecuteTime": {
     "end_time": "2024-01-02T12:21:42.437643900Z",
     "start_time": "2024-01-02T12:21:42.426586300Z"
    }
   },
   "id": "fd5dda0e27698c06"
  },
  {
   "cell_type": "markdown",
   "source": [
    "# 2. Get the list of all issues"
   ],
   "metadata": {
    "collapsed": false
   },
   "id": "5c318acae24b82a4"
  },
  {
   "cell_type": "code",
   "execution_count": 5,
   "outputs": [],
   "source": [
    "german_diskmags_list = []\n",
    "\n",
    "# Iterate over all rows of the main dataset\n",
    "for index, row in df_main_german.iterrows():\n",
    "    if not isinstance(row['systems_lower'], str): continue\n",
    "    # Get values\n",
    "    title = row['Title'].split('; ')\n",
    "    system = row['systems_lower'].split('; ')\n",
    "    source = row['Magazine[Source]'].split('; ')\n",
    "    \n",
    "    # CSDB\n",
    "    if 'CSDB' in source:\n",
    "        subset_csdb = df_csdb[df_csdb['title'].apply(lambda x: any(item in x.split(', ') for item in title))]\n",
    "        subset_csdb_cleaned = subset_csdb[['title', 'issue', 'download_links', 'platform']]\n",
    "        german_diskmags_list.append(subset_csdb_cleaned)\n",
    "        \n",
    "    # Demozoo\n",
    "    if 'Demozoo' in source:\n",
    "        subset_demozoo = df_demozoo[df_demozoo['title'].apply(lambda x: any(item in x.split(', ') for item in title))]\n",
    "        subset_demozoo_cleaned = subset_demozoo[subset_demozoo['system_lower'].apply(lambda x: any(item in x for item in system))]\n",
    "        if not subset_demozoo_cleaned.empty:\n",
    "            subset_demozoo_cleaned = subset_demozoo_cleaned[['title', 'issue', 'download_links', 'platform']]\n",
    "            german_diskmags_list.append(subset_demozoo_cleaned)\n",
    "            \n",
    "    # Pouet\n",
    "    if 'Pouet' in source:\n",
    "        subset_pouet = df_pouet[df_pouet['title'].apply(lambda x: any(item in x.split(', ') for item in title))]\n",
    "        subset_pouet_cleaned = subset_pouet[subset_pouet['system_lower'].apply(lambda x: any(item in x for item in system))]\n",
    "        if not subset_pouet_cleaned.empty:\n",
    "            subset_pouet_cleaned = subset_pouet_cleaned[['title', 'issue', 'download_links', 'platform']]\n",
    "            german_diskmags_list.append(subset_pouet_cleaned)\n",
    "            \n",
    "# Concat subsets to the dataframe\n",
    "subset_issues_german = pd.concat(german_diskmags_list, ignore_index=True)\n",
    "subset_issues_german = subset_issues_german[~subset_issues_german['download_links'].duplicated(keep='first')] # Remove duplicates\n",
    "subset_issues_german = subset_issues_german[~subset_issues_german['issue'].duplicated(keep='first')] # Remove duplicates\n",
    "subset_issues_german = subset_issues_german.sort_values(by='issue', key=lambda x: x.str.lower())"
   ],
   "metadata": {
    "collapsed": false,
    "ExecuteTime": {
     "end_time": "2024-01-02T12:21:42.524083800Z",
     "start_time": "2024-01-02T12:21:42.436465300Z"
    }
   },
   "id": "657f9bfd67ad27ea"
  },
  {
   "cell_type": "code",
   "execution_count": 6,
   "outputs": [],
   "source": [
    "subset_issues_german.to_csv('csv/issues_c64_german.csv', index=False)"
   ],
   "metadata": {
    "collapsed": false,
    "ExecuteTime": {
     "end_time": "2024-01-02T12:21:42.534347300Z",
     "start_time": "2024-01-02T12:21:42.525118500Z"
    }
   },
   "id": "bb87dcb1d2bd96d2"
  },
  {
   "cell_type": "code",
   "execution_count": 6,
   "outputs": [],
   "source": [],
   "metadata": {
    "collapsed": false,
    "ExecuteTime": {
     "end_time": "2024-01-02T12:21:42.534347300Z",
     "start_time": "2024-01-02T12:21:42.531235700Z"
    }
   },
   "id": "b765916995c74548"
  }
 ],
 "metadata": {
  "kernelspec": {
   "display_name": "Python 3",
   "language": "python",
   "name": "python3"
  },
  "language_info": {
   "codemirror_mode": {
    "name": "ipython",
    "version": 2
   },
   "file_extension": ".py",
   "mimetype": "text/x-python",
   "name": "python",
   "nbconvert_exporter": "python",
   "pygments_lexer": "ipython2",
   "version": "2.7.6"
  }
 },
 "nbformat": 4,
 "nbformat_minor": 5
}
