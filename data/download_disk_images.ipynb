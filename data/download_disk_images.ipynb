{
 "cells": [
  {
   "cell_type": "code",
   "execution_count": 1,
   "id": "initial_id",
   "metadata": {
    "collapsed": true,
    "ExecuteTime": {
     "end_time": "2024-02-07T22:35:26.164545800Z",
     "start_time": "2024-02-07T22:35:22.634940300Z"
    }
   },
   "outputs": [],
   "source": [
    "import os\n",
    "import pandas as pd\n",
    "import requests\n",
    "from urllib.parse import urlparse\n",
    "import re\n",
    "from disk_image_handling.c64_disk_image_processing import Corpus"
   ]
  },
  {
   "cell_type": "markdown",
   "source": [
    "# 1. Load data"
   ],
   "metadata": {
    "collapsed": false
   },
   "id": "6a3bd850ba168d37"
  },
  {
   "cell_type": "code",
   "execution_count": 2,
   "outputs": [],
   "source": [
    "with open('csv/mw_import.csv', encoding='utf-16') as main_dataset, open('csv/diskmags_csdb.csv', encoding='utf-8') as csdb_dataset, open('csv/diskmags_demozoo.csv', encoding='utf-8') as demozoo_dataset, open('csv/diskmags_pouet.csv', encoding='utf-8') as pouet_dataset:\n",
    "    df_main = pd.read_csv(main_dataset)\n",
    "    df_csdb = pd.read_csv(csdb_dataset)\n",
    "    df_demozoo = pd.read_csv(demozoo_dataset)\n",
    "    df_pouet = pd.read_csv(pouet_dataset)"
   ],
   "metadata": {
    "collapsed": false,
    "ExecuteTime": {
     "end_time": "2024-02-07T22:35:26.352620200Z",
     "start_time": "2024-02-07T22:35:26.170539700Z"
    }
   },
   "id": "87cbf59a1068980"
  },
  {
   "cell_type": "markdown",
   "source": [
    "## 1.1 Create subset of German-language magazines for the Commodore 64"
   ],
   "metadata": {
    "collapsed": false
   },
   "id": "50656708bd86c069"
  },
  {
   "cell_type": "code",
   "execution_count": 3,
   "outputs": [],
   "source": [
    "df_main_german = df_main[df_main['Magazine[Language]'].apply(lambda x: isinstance(x,str) and 'German' in x.split('; '))]\n",
    "df_main_german = df_main_german[df_main_german['Magazine[Systems]'].apply(lambda x: isinstance(x,str) and 'Commodore 64' in x.split('; '))]\n",
    "df_main_german.to_csv('csv/c64_diskmag_titles.csv', index=False)\n",
    "df_main_german['systems_lower'] = df_main_german['Magazine[Systems]'].apply(lambda x: x.lower() if isinstance(x, str) else None)"
   ],
   "metadata": {
    "collapsed": false,
    "ExecuteTime": {
     "end_time": "2024-02-07T22:35:26.389144200Z",
     "start_time": "2024-02-07T22:35:26.357625700Z"
    }
   },
   "id": "4d54a8484add17ad"
  },
  {
   "cell_type": "markdown",
   "source": [
    "## 1.2 Prepare other datsets"
   ],
   "metadata": {
    "collapsed": false
   },
   "id": "1e3017e849114940"
  },
  {
   "cell_type": "code",
   "execution_count": 5,
   "outputs": [],
   "source": [
    "df_csdb['system_lower'] = df_csdb['platform'].apply(lambda x: x.lower() if isinstance(x, str) else None)\n",
    "df_demozoo['system_lower'] = df_demozoo['platform'].apply(lambda x: x.lower() if isinstance(x, str) else None)\n",
    "df_pouet['system_lower'] = df_pouet['platform'].apply(lambda x: x.lower() if isinstance(x, str) else None)"
   ],
   "metadata": {
    "collapsed": false,
    "ExecuteTime": {
     "end_time": "2024-02-07T22:35:26.461192Z",
     "start_time": "2024-02-07T22:35:26.420187700Z"
    }
   },
   "id": "fd5dda0e27698c06"
  },
  {
   "cell_type": "markdown",
   "source": [
    "# 2. Get the list of all issues"
   ],
   "metadata": {
    "collapsed": false
   },
   "id": "5c318acae24b82a4"
  },
  {
   "cell_type": "code",
   "execution_count": 6,
   "outputs": [],
   "source": [
    "german_diskmags_list = []\n",
    "\n",
    "# Iterate over all rows of the main dataset\n",
    "for index, row in df_main_german.iterrows():\n",
    "    if not isinstance(row['systems_lower'], str): continue\n",
    "    # Get values\n",
    "    title = row['Title'].split('; ')\n",
    "    system = row['systems_lower'].split('; ')\n",
    "    source = row['Magazine[Source]'].split('; ')\n",
    "    \n",
    "    # CSDB\n",
    "    if 'CSDB' in source:\n",
    "        subset_csdb = df_csdb[df_csdb['title'].apply(lambda x: any(item in x.split(', ') for item in title))]\n",
    "        subset_csdb_cleaned = subset_csdb[['title', 'issue', 'download_links', 'platform']]\n",
    "        german_diskmags_list.append(subset_csdb_cleaned)\n",
    "        \n",
    "    # Demozoo\n",
    "    if 'Demozoo' in source:\n",
    "        subset_demozoo = df_demozoo[df_demozoo['title'].apply(lambda x: any(item in x.split(', ') for item in title))]\n",
    "        subset_demozoo_cleaned = subset_demozoo[subset_demozoo['system_lower'].apply(lambda x: any(item in x for item in system))]\n",
    "        if not subset_demozoo_cleaned.empty:\n",
    "            subset_demozoo_cleaned = subset_demozoo_cleaned[['title', 'issue', 'download_links', 'platform']]\n",
    "            german_diskmags_list.append(subset_demozoo_cleaned)\n",
    "            \n",
    "    # Pouet\n",
    "    if 'Pouet' in source:\n",
    "        subset_pouet = df_pouet[df_pouet['title'].apply(lambda x: any(item in x.split(', ') for item in title))]\n",
    "        subset_pouet_cleaned = subset_pouet[subset_pouet['system_lower'].apply(lambda x: any(item in x for item in system))]\n",
    "        if not subset_pouet_cleaned.empty:\n",
    "            subset_pouet_cleaned = subset_pouet_cleaned[['title', 'issue', 'download_links', 'platform']]\n",
    "            german_diskmags_list.append(subset_pouet_cleaned)\n",
    "            \n",
    "# Concat subsets to the dataframe\n",
    "subset_issues_german = pd.concat(german_diskmags_list, ignore_index=True)\n",
    "subset_issues_german = subset_issues_german[~subset_issues_german['download_links'].duplicated(keep='first')] # Remove duplicates\n",
    "subset_issues_german = subset_issues_german[~subset_issues_german['issue'].duplicated(keep='first')] # Remove duplicates\n",
    "subset_issues_german = subset_issues_german.sort_values(by='issue', key=lambda x: x.str.lower())"
   ],
   "metadata": {
    "collapsed": false,
    "ExecuteTime": {
     "end_time": "2024-02-07T22:35:26.761688Z",
     "start_time": "2024-02-07T22:35:26.459191100Z"
    }
   },
   "id": "657f9bfd67ad27ea"
  },
  {
   "cell_type": "code",
   "execution_count": 7,
   "outputs": [],
   "source": [
    "subset_issues_german.to_csv('csv/c64_diskmag_issues.csv', index=False)"
   ],
   "metadata": {
    "collapsed": false,
    "ExecuteTime": {
     "end_time": "2024-02-07T22:35:26.800087800Z",
     "start_time": "2024-02-07T22:35:26.765095100Z"
    }
   },
   "id": "bb87dcb1d2bd96d2"
  },
  {
   "cell_type": "markdown",
   "source": [
    "# 3. Download disk images"
   ],
   "metadata": {
    "collapsed": false
   },
   "id": "7e2cc7c7acfe972d"
  },
  {
   "cell_type": "code",
   "outputs": [],
   "source": [
    "# Get sorted list of titles\n",
    "titles = subset_issues_german['title'].tolist()\n",
    "titles = sorted(set(titles))"
   ],
   "metadata": {
    "collapsed": false,
    "ExecuteTime": {
     "end_time": "2024-02-07T22:35:26.823086600Z",
     "start_time": "2024-02-07T22:35:26.795094400Z"
    }
   },
   "id": "d371c28241a34878",
   "execution_count": 8
  },
  {
   "cell_type": "code",
   "outputs": [],
   "source": [
    "os.mkdir('../data/disk_images')\n",
    "#os.chdir('disk_images')"
   ],
   "metadata": {
    "collapsed": false,
    "ExecuteTime": {
     "end_time": "2024-02-07T22:35:26.842126800Z",
     "start_time": "2024-02-07T22:35:26.812094900Z"
    }
   },
   "id": "59f83c81d560c9d7",
   "execution_count": 9
  },
  {
   "cell_type": "code",
   "outputs": [
    {
     "name": "stdout",
     "output_type": "stream",
     "text": [
      "Downloaded actionnews01.zip\n",
      "Downloaded actionnews02.zip\n",
      "Downloaded actionnews03.zip\n",
      "Downloaded actionnews04.zip\n",
      "Downloaded actionnews05.zip\n",
      "Downloaded actionnews06.zip\n",
      "Downloaded actionnews08.zip\n",
      "Downloaded actionnews09sphericaldesigns.zip\n",
      "Downloaded actionnews01.zip\n",
      "Downloaded actionnews02.zip\n",
      "Downloaded actionnews03.zip\n",
      "Downloaded actionnews04.zip\n",
      "Downloaded actionnews05.zip\n",
      "Downloaded actionnews06.zip\n",
      "Downloaded actionnews08.zip\n",
      "Downloaded actionnews09.zip\n",
      "Downloaded bioblech01.zip\n",
      "Downloaded bioblech02.zip\n",
      "Downloaded bioblech03.zip\n",
      "Downloaded biometal01.zip\n",
      "Downloaded biometal02.zip\n",
      "Downloaded biometal03.zip\n",
      "Downloaded biometal04.zip\n",
      "Downloaded cn5.zip\n",
      "Downloaded darkstar13.zip\n",
      "Downloaded digitalnews8802.zip\n",
      "Unable to locate file download.php?id=8442\n",
      "No connection adapters were found for 'ftp://ftp.scs-trc.net/pub/c64/Magazines/Digital_Talk/DigitalTalk_01.zip'\n",
      "Downloaded dt01.zip\n",
      "Downloaded digitaltalk01.zip\n",
      "Downloaded digitaltalk02.lzh\n",
      "Downloaded dt02.zip\n",
      "Downloaded 003.zip\n",
      "Downloaded 003.zip\n",
      "Downloaded digitaltalk04.zip\n",
      "Downloaded digitaltalk05.zip\n",
      "Unable to locate file download.php?id=8986\n",
      "[Errno 22] Invalid argument: 'disk_images\\\\Digital Talk\\\\Digital Talk #06\\\\download.php?id=8986'\n",
      "Downloaded digitaltalk06.zip\n",
      "Unable to locate file download.php?id=8987\n",
      "[Errno 22] Invalid argument: 'disk_images\\\\Digital Talk\\\\Digital Talk #07\\\\download.php?id=8987'\n",
      "Downloaded digitaltalk07.zip\n",
      "Unable to locate file download.php?id=8988\n",
      "No connection adapters were found for 'ftp://ftp.scs-trc.net/pub/c64/Magazines/Digital_Talk/DigitalTalk_08.zip'\n",
      "Downloaded dt08.zip\n",
      "Downloaded dt09.zip\n",
      "Downloaded dt100.zip\n",
      "Downloaded dt100heft.pdf\n",
      "Downloaded dt101.zip\n",
      "Downloaded dt102.zip\n",
      "Downloaded dt103.zip\n",
      "Downloaded dt104.zip\n",
      "Downloaded dt105.zip\n",
      "Downloaded dt105heft.pdf\n",
      "Downloaded dt106.zip\n",
      "Downloaded dt107.zip\n",
      "Downloaded dt108.zip\n",
      "Downloaded 109side1.d64\n",
      "Downloaded 109side2.d64\n",
      "Downloaded dt109folder.pdf\n",
      "Downloaded dt109innen.jpg\n",
      "Downloaded coverdt109.pdf\n",
      "Unable to locate file download.php?id=8879\n",
      "No connection adapters were found for 'ftp://ftp.scs-trc.net/pub/c64/Magazines/Digital_Talk/DigitalTalk_11.zip'\n",
      "Downloaded digitaltalk11.zip\n",
      "Downloaded digitaltalk110.zip\n",
      "Downloaded digitaltalk111.zip\n",
      "Downloaded dt112a.d64\n",
      "Downloaded dt112b.d64\n",
      "Downloaded digitaltalk112.zip\n",
      "Unable to locate file download.php?id=8880\n",
      "No connection adapters were found for 'ftp://ftp.scs-trc.net/pub/c64/Magazines/Digital_Talk/DigitalTalk_12.zip'\n",
      "Downloaded digitaltalk12.zip\n",
      "Downloaded digitaltalk13.zip\n",
      "Downloaded digitaltalk13.zip\n",
      "Downloaded digitaltalk14.zip\n",
      "Downloaded digitaltalk14.zip\n",
      "Downloaded digitaltalk15.zip\n",
      "Downloaded digitaltalk15.zip\n",
      "Downloaded digitaltalk16.zip\n",
      "Downloaded digitaltalk16.zip\n",
      "Downloaded digitaltalk17.zip\n",
      "Downloaded digitaltalk17.zip\n",
      "Downloaded digitaltalk18.zip\n",
      "Downloaded digitaltalk18.zip\n",
      "Downloaded digitaltalk19.zip\n",
      "Downloaded digitaltalk19.zip\n",
      "Downloaded digitaltalk20.zip\n",
      "Downloaded digitaltalk20.zip\n",
      "Downloaded digitaltalk21.zip\n",
      "Downloaded digitaltalk22.zip\n",
      "Downloaded digitaltalk22.zip\n",
      "Downloaded dt22.zip\n",
      "Downloaded digitaltalk23.zip\n",
      "Downloaded digitaltalk24.zip\n",
      "Downloaded digitaltalk24.zip\n",
      "Downloaded digitaltalk25.zip\n",
      "Downloaded digitaltalk26.zip\n",
      "Downloaded digitaltalk26.zip\n",
      "Downloaded digitaltalk27.zip\n",
      "Downloaded digitaltalk27.zip\n",
      "Downloaded digitaltalk28.zip\n",
      "Downloaded digitaltalk28.zip\n",
      "Downloaded digitaltalk29.zip\n",
      "Downloaded digitaltalk29.zip\n",
      "Downloaded digitaltalk30.zip\n",
      "Downloaded digitaltalk30.zip\n",
      "Downloaded digitaltalk31.zip\n",
      "Downloaded digitaltalk31.zip\n",
      "Downloaded digitaltalk32.zip\n",
      "Downloaded digitaltalk32.zip\n",
      "Downloaded digitaltalk33.zip\n",
      "Downloaded digitaltalk33.zip\n",
      "Downloaded digitaltalk34.zip\n",
      "Downloaded digitaltalk34.zip\n",
      "Downloaded digitaltalk35.zip\n",
      "Downloaded digitaltalk35.zip\n",
      "Downloaded dt36.zip\n",
      "Downloaded digitaltalk37.zip\n",
      "Downloaded digitaltalk37.zip\n",
      "Downloaded digitaltalk38.zip\n",
      "Downloaded digitaltalk38.zip\n",
      "Downloaded digitaltalk39.zip\n",
      "Downloaded digitaltalk39.zip\n",
      "Downloaded digitaltalk40.zip\n",
      "Downloaded digitaltalk41.zip\n",
      "Downloaded digitaltalk41.zip\n",
      "Downloaded digitaltalk42.zip\n",
      "Downloaded digitaltalk43.zip\n",
      "Downloaded digitaltalk43.zip\n",
      "Downloaded digitaltalk44.zip\n",
      "Downloaded digitaltalk45.zip\n",
      "Unable to locate file download.php?id=87069\n",
      "[Errno 22] Invalid argument: 'disk_images\\\\Digital Talk\\\\Digital Talk #46\\\\download.php?id=87069'\n",
      "Downloaded dt46.zip\n",
      "Downloaded dt2347.zip\n",
      "Downloaded dt47.zip\n",
      "Downloaded digitaltalk48.zip\n",
      "Downloaded dt48.zip\n",
      "Downloaded digitaltalk49.zip\n",
      "Downloaded dt49.zip\n",
      "Downloaded digitaltalk50.zip\n",
      "Downloaded dt50.zip\n",
      "Downloaded digitaltalk51.zip\n",
      "Downloaded dt51.zip\n",
      "Downloaded digitaltalk52.zip\n",
      "Downloaded dt52.zip\n",
      "Downloaded digitaltalk53.zip\n",
      "Downloaded dt53.zip\n",
      "Downloaded dt2354.zip\n",
      "Downloaded dt54.zip\n",
      "Downloaded dt55.zip\n",
      "Downloaded dt55.zip\n",
      "Unable to locate file download.php?id=8948\n",
      "[Errno 22] Invalid argument: 'disk_images\\\\Digital Talk\\\\digital talk #56\\\\download.php?id=8948'\n",
      "Downloaded dt56.zip\n",
      "Unable to locate file download.php?id=3430\n",
      "No connection adapters were found for 'ftp://ftp.padua.org/pub/c64/Magazines/digital_talk/DigitalTalk57.zip'\n",
      "Downloaded dt57.zip\n",
      "Downloaded dt2358.zip\n",
      "Downloaded dt58.zip\n",
      "Unable to locate file download.php?id=8860\n",
      "[Errno 22] Invalid argument: 'disk_images\\\\Digital Talk\\\\Digital Talk #59\\\\download.php?id=8860'\n",
      "Downloaded dt59.zip\n",
      "Downloaded dtdownload353eabb43d.zip\n",
      "Unable to locate file download.php?id=8842\n",
      "[Errno 22] Invalid argument: 'disk_images\\\\Digital Talk\\\\Digital Talk #61\\\\download.php?id=8842'\n",
      "Downloaded dt61.zip\n",
      "Downloaded dt62.zip\n",
      "Unable to locate file download.php?id=8838\n",
      "[Errno 22] Invalid argument: 'disk_images\\\\Digital Talk\\\\Digital Talk #62 (Green Tears)\\\\download.php?id=8838'\n",
      "Downloaded dt2363.zip\n",
      "Downloaded dt63.zip\n",
      "Downloaded dtdownload394012ca55.zip\n",
      "Downloaded dt2365.zip\n",
      "Downloaded dt65.zip\n",
      "Downloaded dt2366.zip\n",
      "Downloaded dt66.zip\n",
      "Downloaded dtdownload4240e2e20e.zip\n",
      "Downloaded dt2368.zip\n",
      "Downloaded dt68.zip\n",
      "Downloaded dt2369low.zip\n",
      "Downloaded dt69low.zip\n",
      "Downloaded dt2370low.zip\n",
      "Downloaded dt70low.zip\n",
      "Downloaded dt2371.zip\n",
      "Downloaded dt71.zip\n",
      "Downloaded dt2372.zip\n",
      "Downloaded dt72.zip\n",
      "Downloaded dt2373.zip\n",
      "Downloaded dt73.zip\n",
      "Unable to locate file download.php?id=22716\n",
      "[Errno 22] Invalid argument: 'disk_images\\\\Digital Talk\\\\Digital Talk #74\\\\download.php?id=22716'\n",
      "Downloaded dt74.zip\n",
      "Downloaded rx8breit.jpg\n",
      "Downloaded dt2375.zip\n",
      "Downloaded dt75.zip\n",
      "Downloaded dt2376.zip\n",
      "Downloaded dt76.zip\n",
      "Downloaded dt77.zip\n",
      "Downloaded dt2378.zip\n",
      "Downloaded dt78.zip\n",
      "Downloaded dt79.zip\n",
      "Downloaded dt2380.zip\n",
      "Downloaded dt80.zip\n",
      "Downloaded dt81.zip\n",
      "Downloaded dt82.zip\n",
      "Downloaded dt83.zip\n",
      "Downloaded dt84.zip\n",
      "Downloaded dt85.zip\n",
      "Downloaded dt86.zip\n",
      "Downloaded dt87.zip\n",
      "Downloaded dt88.zip\n",
      "Downloaded dt89.zip\n",
      "Downloaded dt90.zip\n",
      "Downloaded digitaltalk91.zip\n",
      "Downloaded dt092.zip\n",
      "Downloaded dt093.zip\n",
      "Downloaded dt094.zip\n",
      "Downloaded dt095.zip\n",
      "Downloaded dt096.zip\n",
      "Downloaded dt097.zip\n",
      "Downloaded dt098.zip\n",
      "Downloaded dt99.zip\n",
      "Downloaded dynamicnews1(19xx)().d64\n",
      "Downloaded tigerdisk4years.zip\n",
      "Downloaded galaxy01bothsides.zip\n",
      "Downloaded galaxy01.d64\n",
      "Downloaded gameonissue1288germandve.d64\n",
      "Downloaded helpline001.d64\n",
      "Downloaded helpline002.d64\n",
      "Downloaded helpline003.d64\n",
      "Downloaded helpline004.d64\n",
      "Downloaded helpline005.d64\n",
      "Downloaded helpline006.d64\n",
      "Downloaded helpline007.d64\n",
      "Downloaded helpline008.d64\n",
      "Downloaded helpline009.d64\n",
      "Downloaded helpline010.d64\n",
      "Downloaded helpline011.d64\n",
      "Downloaded helpline012.d64\n",
      "Downloaded helpline013.d64\n",
      "Downloaded helpline014.d64\n",
      "Downloaded helpline015.d64\n",
      "Downloaded helpline016.d64\n",
      "Downloaded helpline017.d64\n",
      "Downloaded helpline018.d64\n",
      "Downloaded helpline019.d64\n",
      "Downloaded helpline020.d64\n",
      "Downloaded helpline021.d64\n",
      "Downloaded helpline022.d64\n",
      "Downloaded helpline023.d64\n",
      "Downloaded helpline024.d64\n",
      "Downloaded helpline025.d64\n",
      "Downloaded helpline026.d64\n",
      "Downloaded helpline027.d64\n",
      "Downloaded helpline028.d64\n",
      "Downloaded helpline029.d64\n",
      "Downloaded helpline030.d64\n",
      "Downloaded helpline031.d64\n",
      "Downloaded helpline032.d64\n",
      "Downloaded helpline033.d64\n",
      "Downloaded helpline034.d64\n",
      "Downloaded helpline035.d64\n",
      "Downloaded helpline036.d64\n",
      "Downloaded helpline037terragonsoftware.d64\n",
      "Downloaded 38.d64\n",
      "Downloaded 39.d64\n",
      "Downloaded 40.d64\n",
      "Downloaded 41.d64\n",
      "Downloaded 42.d64\n",
      "Downloaded 43.d64\n",
      "Downloaded 44.d64\n",
      "Downloaded 45.d64\n",
      "Downloaded 46.d64\n",
      "Downloaded 47.d64\n",
      "Downloaded 48.d64\n",
      "Downloaded 49.d64\n",
      "Downloaded input64issue11988tms.d64\n",
      "Downloaded killerdrive07d64.zip\n",
      "Downloaded killerdrive10.d64\n",
      "Downloaded killerdrive02.d64\n",
      "Downloaded killerdrive5.d64\n",
      "Downloaded killerdrive07.zip\n",
      "Downloaded killerdrive07d64.zip\n",
      "Downloaded killerdrive8.zip\n",
      "Downloaded killerdrive9.zip\n",
      "Downloaded magiccode01apollodesigns.d64\n",
      "Downloaded minimag09.zip\n",
      "Downloaded minimag01.zip\n",
      "Downloaded minimag02.zip\n",
      "Downloaded minimagausgabe3.rar\n",
      "Downloaded minimagausgabe4.rar\n",
      "Downloaded minimag05.rar\n",
      "Downloaded minimag06.rar\n",
      "Downloaded minimag07.rar\n",
      "Downloaded minimag08.rar\n",
      "Downloaded ausgabe10.zip\n",
      "Downloaded tigerdisk1year.zip\n",
      "Downloaded poketipsundtricksmisterxc64stuff.zip\n",
      "Downloaded powerdisk64197.zip\n",
      "Downloaded powerdisk64297.zip\n",
      "Downloaded powerdisk64298.zip\n",
      "Downloaded pbc01.zip\n",
      "Downloaded pbc10.zip\n",
      "Downloaded pbc11.zip\n",
      "Downloaded pbc12.zip\n",
      "Downloaded pbc13.zip\n",
      "Downloaded pbc14.zip\n",
      "Downloaded pbc15.zip\n",
      "Downloaded pbc16.zip\n",
      "Downloaded pbc17.zip\n",
      "Downloaded pbc18.zip\n",
      "Downloaded pbc19.zip\n",
      "Downloaded pbc02.zip\n",
      "Downloaded pbc20.zip\n",
      "Downloaded pbc21.zip\n",
      "Downloaded pbc22.zip\n",
      "Downloaded pbc23.zip\n",
      "Downloaded pbc24.zip\n",
      "Downloaded pbc25.zip\n",
      "Downloaded publication26.d64\n",
      "Downloaded pbc27.zip\n",
      "Downloaded publication28.zip\n",
      "Downloaded publication29.zip\n",
      "Downloaded pbc03.zip\n",
      "Downloaded publication30.zip\n",
      "Downloaded pbc31.zip\n",
      "Downloaded pbc32.zip\n",
      "Downloaded pbc33.zip\n",
      "Downloaded pbc34.zip\n",
      "Downloaded pbc35.zip\n",
      "Downloaded pbc36.zip\n",
      "Downloaded pbc37.zip\n",
      "Downloaded pbc38.zip\n",
      "Downloaded pbc39.zip\n",
      "Downloaded pbc04.zip\n",
      "Downloaded pbc40.zip\n",
      "Downloaded pbc41.zip\n",
      "Downloaded pbc42.zip\n",
      "Downloaded pbc43.zip\n",
      "Downloaded pbc44.zip\n",
      "Downloaded pbc45.zip\n",
      "Downloaded pbc46[civitas].zip\n",
      "Downloaded pbc47.zip\n",
      "Downloaded pbc48.zip\n",
      "Unable to locate file download.php?id=173716\n",
      "[Errno 22] Invalid argument: 'disk_images\\\\Publication\\\\publication #48\\\\download.php?id=173716'\n",
      "Downloaded publication49.zip\n",
      "Downloaded publication49.zip\n",
      "Downloaded pbc05.zip\n",
      "Downloaded pbc50[civitas].zip\n",
      "Downloaded pbc51.zip\n",
      "Downloaded pbc52[civitas].zip\n",
      "Downloaded pbc53.zip\n",
      "Downloaded pbc54[civitas].zip\n",
      "Downloaded pbc55[civitas].zip\n",
      "Downloaded pbc56[civitas].zip\n",
      "Downloaded pbc57[civitas].zip\n",
      "Downloaded pbc06.zip\n",
      "Downloaded pbc07.zip\n",
      "Downloaded pbc08.zip\n",
      "Downloaded publication09.zip\n",
      "Downloaded publication9.zip\n",
      "Downloaded publicnews0389security.d64\n",
      "Downloaded publicnews0489security.d64\n",
      "Downloaded publicnews061989.zip\n",
      "Downloaded pn.d64\n",
      "Downloaded publicnews0789security.d64\n",
      "Downloaded publicnews0889security.d64\n",
      "Downloaded publicnews0989security.d64\n",
      "Downloaded publicnews1089.d64\n",
      "Downloaded publicnews1189security.d64\n",
      "Downloaded pulp1.zip\n",
      "Downloaded pulp2.zip\n",
      "Downloaded pulp3.zip\n",
      "Downloaded issue1ofroleplayinggames[ccg].d64\n",
      "Downloaded issue2ofroleplayinggames[ccg].d64\n",
      "Downloaded swo01.zip\n",
      "Unable to locate file swo01.d64\n",
      "HTTPConnectionPool(host='home.arcor.de', port=80): Max retries exceeded with url: /sceneworld/Sceneworld2/Swo/downloads/issues/swo_01.D64 (Caused by NameResolutionError(\"<urllib3.connection.HTTPConnection object at 0x0000021063801330>: Failed to resolve 'home.arcor.de' ([Errno 11001] getaddrinfo failed)\"))\n",
      "Downloaded swo01.zip\n",
      "Downloaded swo10all.zip\n",
      "Unable to locate file swo10d64.zip\n",
      "HTTPConnectionPool(host='home.arcor.de', port=80): Max retries exceeded with url: /sceneworld/Sceneworld2/Swo/downloads/issues/swo_10_d64.zip (Caused by NameResolutionError(\"<urllib3.connection.HTTPConnection object at 0x0000021063865F90>: Failed to resolve 'home.arcor.de' ([Errno 11001] getaddrinfo failed)\"))\n",
      "\n",
      "Unable to locate file swo10d81.zip\n",
      "HTTPConnectionPool(host='home.arcor.de', port=80): Max retries exceeded with url: /sceneworld/Sceneworld2/Swo/downloads/issues/swo_10_d81.zip (Caused by NameResolutionError(\"<urllib3.connection.HTTPConnection object at 0x00000210638655D0>: Failed to resolve 'home.arcor.de' ([Errno 11001] getaddrinfo failed)\"))\n",
      "\n",
      "Unable to locate file swo11all.zip\n",
      "HTTPConnectionPool(host='home.arcor.de', port=80): Max retries exceeded with url: /sceneworld/Sceneworld2/Swo/downloads/issues/swo11all.zip (Caused by NameResolutionError(\"<urllib3.connection.HTTPConnection object at 0x00000210638023B0>: Failed to resolve 'home.arcor.de' ([Errno 11001] getaddrinfo failed)\"))\n",
      "\n",
      "Unable to locate file swo11d64.zip\n",
      "HTTPConnectionPool(host='home.arcor.de', port=80): Max retries exceeded with url: /sceneworld/Sceneworld2/Swo/downloads/issues/swo_11_d64.zip (Caused by NameResolutionError(\"<urllib3.connection.HTTPConnection object at 0x000002105F4BFA90>: Failed to resolve 'home.arcor.de' ([Errno 11001] getaddrinfo failed)\"))\n",
      "\n",
      "Unable to locate file swo11d81.zip\n",
      "HTTPConnectionPool(host='home.arcor.de', port=80): Max retries exceeded with url: /sceneworld/Sceneworld2/Swo/downloads/issues/swo_11_d81.zip (Caused by NameResolutionError(\"<urllib3.connection.HTTPConnection object at 0x00000210638652A0>: Failed to resolve 'home.arcor.de' ([Errno 11001] getaddrinfo failed)\"))\n",
      "Downloaded swo12all.zip\n",
      "Unable to locate file swo12d81.zip\n",
      "HTTPConnectionPool(host='home.arcor.de', port=80): Max retries exceeded with url: /sceneworld/Sceneworld2/Swo/downloads/issues/swo_12_d81.zip (Caused by NameResolutionError(\"<urllib3.connection.HTTPConnection object at 0x0000021063800220>: Failed to resolve 'home.arcor.de' ([Errno 11001] getaddrinfo failed)\"))\n",
      "\n",
      "Unable to locate file swo12d64.zip\n",
      "HTTPConnectionPool(host='home.arcor.de', port=80): Max retries exceeded with url: /sceneworld/Sceneworld2/Swo/downloads/issues/swo_12_d64.zip (Caused by NameResolutionError(\"<urllib3.connection.HTTPConnection object at 0x00000210638669E0>: Failed to resolve 'home.arcor.de' ([Errno 11001] getaddrinfo failed)\"))\n",
      "Downloaded swo13all.zip\n",
      "Unable to locate file swo13d64.zip\n",
      "HTTPConnectionPool(host='home.arcor.de', port=80): Max retries exceeded with url: /sceneworld/Sceneworld2/Swo/downloads/issues/swo_13_d64.zip (Caused by NameResolutionError(\"<urllib3.connection.HTTPConnection object at 0x00000210638026E0>: Failed to resolve 'home.arcor.de' ([Errno 11001] getaddrinfo failed)\"))\n",
      "\n",
      "Unable to locate file swo13d81.zip\n",
      "HTTPConnectionPool(host='home.arcor.de', port=80): Max retries exceeded with url: /sceneworld/Sceneworld2/Swo/downloads/issues/swo_13_d81.zip (Caused by NameResolutionError(\"<urllib3.connection.HTTPConnection object at 0x0000021063801750>: Failed to resolve 'home.arcor.de' ([Errno 11001] getaddrinfo failed)\"))\n",
      "Downloaded swo14all.zip\n",
      "Unable to locate file swo14d64.zip\n",
      "HTTPConnectionPool(host='home.arcor.de', port=80): Max retries exceeded with url: /sceneworld/Sceneworld2/Swo/downloads/issues/swo_14_d64.zip (Caused by NameResolutionError(\"<urllib3.connection.HTTPConnection object at 0x000002106384D510>: Failed to resolve 'home.arcor.de' ([Errno 11001] getaddrinfo failed)\"))\n",
      "\n",
      "Unable to locate file swo14d81.zip\n",
      "HTTPConnectionPool(host='home.arcor.de', port=80): Max retries exceeded with url: /sceneworld/Sceneworld2/Swo/downloads/issues/swo_14_d81.zip (Caused by NameResolutionError(\"<urllib3.connection.HTTPConnection object at 0x0000021063866800>: Failed to resolve 'home.arcor.de' ([Errno 11001] getaddrinfo failed)\"))\n",
      "Downloaded issue15all.zip\n",
      "Unable to locate file swo15d81.zip\n",
      "HTTPConnectionPool(host='home.arcor.de', port=80): Max retries exceeded with url: /sceneworld/Sceneworld2/Swo/downloads/issues/swo_15_d81.zip (Caused by NameResolutionError(\"<urllib3.connection.HTTPConnection object at 0x0000021063801360>: Failed to resolve 'home.arcor.de' ([Errno 11001] getaddrinfo failed)\"))\n",
      "\n",
      "Unable to locate file swo15d64.zip\n",
      "HTTPConnectionPool(host='home.arcor.de', port=80): Max retries exceeded with url: /sceneworld/Sceneworld2/Swo/downloads/issues/swo_15_d64.zip (Caused by NameResolutionError(\"<urllib3.connection.HTTPConnection object at 0x000002106384EEC0>: Failed to resolve 'home.arcor.de' ([Errno 11001] getaddrinfo failed)\"))\n",
      "Downloaded swo16.zip\n",
      "Downloaded swo1681.zip\n",
      "Downloaded issue16all.zip\n",
      "Downloaded swo17.all.zip\n",
      "Downloaded swo18.d64\n",
      "Downloaded swo19.d64\n",
      "Downloaded swo19.d81.zip\n",
      "Downloaded swo02.zip\n",
      "Downloaded swo02.zip\n",
      "Downloaded swo20d64.zip\n",
      "Downloaded swo20.d81\n",
      "Downloaded swo21.d64\n",
      "Downloaded swo211581.d81\n",
      "Downloaded swo22.zip\n",
      "Downloaded swo23.zip\n",
      "Downloaded swo24.zip\n",
      "Downloaded d64release.zip\n",
      "Downloaded d81.zip\n",
      "Downloaded ide64compatiblestartupforside25.1.zip\n",
      "Downloaded swo26.zip\n",
      "Downloaded swo27.zip\n",
      "Downloaded swo28.zip\n",
      "Downloaded swo28amiga.lha\n",
      "Downloaded swo29.zip\n",
      "Downloaded swo29amiga.lha\n",
      "Downloaded swo03.zip\n",
      "Downloaded swo03.zip\n",
      "Downloaded swo30all.zip\n",
      "Downloaded swo30.zip\n",
      "Downloaded swo30amiga.lzh\n",
      "Downloaded swo31.zip\n",
      "Downloaded swo32.zip\n",
      "Unable to locate file swo04.zip\n",
      "HTTPConnectionPool(host='home.arcor.de', port=80): Max retries exceeded with url: /sceneworld/Sceneworld2/Swo/downloads/issues/swo_04.zip (Caused by NameResolutionError(\"<urllib3.connection.HTTPConnection object at 0x0000021063864640>: Failed to resolve 'home.arcor.de' ([Errno 11001] getaddrinfo failed)\"))\n",
      "\n",
      "Unable to locate file swo04.d64\n",
      "HTTPConnectionPool(host='home.arcor.de', port=80): Max retries exceeded with url: /sceneworld/Sceneworld2/Swo/downloads/issues/swo_04.D64 (Caused by NameResolutionError(\"<urllib3.connection.HTTPConnection object at 0x0000021063865780>: Failed to resolve 'home.arcor.de' ([Errno 11001] getaddrinfo failed)\"))\n",
      "Downloaded sceneworld04.zip\n",
      "Downloaded sceneworld04.zip\n",
      "Unable to locate file swo05.zip\n",
      "HTTPConnectionPool(host='home.arcor.de', port=80): Max retries exceeded with url: /sceneworld/Sceneworld2/Swo/downloads/issues/swo_05.zip (Caused by NameResolutionError(\"<urllib3.connection.HTTPConnection object at 0x0000021063865BD0>: Failed to resolve 'home.arcor.de' ([Errno 11001] getaddrinfo failed)\"))\n",
      "Downloaded swo05.zip\n",
      "Unable to locate file swo06.zip\n",
      "HTTPConnectionPool(host='home.arcor.de', port=80): Max retries exceeded with url: /sceneworld/Sceneworld2/Swo/downloads/issues/swo_06.zip (Caused by NameResolutionError(\"<urllib3.connection.HTTPConnection object at 0x0000021063800100>: Failed to resolve 'home.arcor.de' ([Errno 11001] getaddrinfo failed)\"))\n",
      "Downloaded swo06.zip\n",
      "Unable to locate file swo07.zip\n",
      "HTTPConnectionPool(host='home.arcor.de', port=80): Max retries exceeded with url: /sceneworld/Sceneworld2/Swo/downloads/issues/swo_07.zip (Caused by NameResolutionError(\"<urllib3.connection.HTTPConnection object at 0x000002105F4BF2B0>: Failed to resolve 'home.arcor.de' ([Errno 11001] getaddrinfo failed)\"))\n",
      "\n",
      "Unable to locate file swo08.zip\n",
      "HTTPConnectionPool(host='home.arcor.de', port=80): Max retries exceeded with url: /sceneworld/Sceneworld2/Swo/downloads/issues/swo_08.zip (Caused by NameResolutionError(\"<urllib3.connection.HTTPConnection object at 0x0000021063866980>: Failed to resolve 'home.arcor.de' ([Errno 11001] getaddrinfo failed)\"))\n",
      "\n",
      "Unable to locate file swo09.zip\n",
      "HTTPConnectionPool(host='home.arcor.de', port=80): Max retries exceeded with url: /sceneworld/Sceneworld2/Swo/downloads/issues/swo_09.zip (Caused by NameResolutionError(\"<urllib3.connection.HTTPConnection object at 0x0000021063865570>: Failed to resolve 'home.arcor.de' ([Errno 11001] getaddrinfo failed)\"))\n",
      "Downloaded swo01.zip\n",
      "Downloaded swo10.zip\n",
      "Downloaded swo11.zip\n",
      "Downloaded swo12.zip\n",
      "Downloaded swo13.zip\n",
      "Downloaded swo14.zip\n",
      "Downloaded swo15.zip\n",
      "Downloaded swo16.zip\n",
      "Downloaded swo17.zip\n",
      "Downloaded swo18.zip\n",
      "Downloaded swo19.zip\n",
      "Downloaded swo02.zip\n",
      "Downloaded swo20.zip\n",
      "Downloaded swo21.zip\n",
      "Downloaded swo22.zip\n",
      "Downloaded swo23.zip\n",
      "Downloaded swo24.zip\n",
      "Downloaded swo25.zip\n",
      "Downloaded swo26.zip\n",
      "Downloaded swo03.zip\n",
      "Downloaded swo04.zip\n",
      "Downloaded swo05.zip\n",
      "Downloaded swo06.zip\n",
      "Downloaded swo07.zip\n",
      "Downloaded swo08.zip\n",
      "Downloaded swo09.zip\n",
      "Downloaded sd15.zip\n",
      "Downloaded tigerdisk3years.zip\n",
      "Unable to locate file download.php?id=58679\n",
      "No connection adapters were found for 'ftp://ftp.scs-trc.net/pub/c64/Magazines/Tiger_Disk/Tiger_Disk_001.zip'\n",
      "Unable to locate file download.php?id=58678\n",
      "No connection adapters were found for 'ftp://ftp.scs-trc.net/pub/c64/Magazines/Tiger_Disk/Tiger_Disk_002.zip'\n",
      "Downloaded tigerdisk003.zip\n",
      "Unable to locate file download.php?id=100905\n",
      "[Errno 22] Invalid argument: 'disk_images\\\\Tiger-Disk, Tiger Disk\\\\tiger disk #98\\\\download.php?id=100905'\n",
      "Downloaded tigerdisk001.zip\n",
      "Downloaded td010.zip\n",
      "Downloaded td100.zip\n",
      "Downloaded td101.zip\n",
      "Downloaded td102.zip\n",
      "Downloaded tigerdisk103.zip\n",
      "Downloaded td104.zip\n",
      "Downloaded td105.zip\n",
      "Downloaded td106.zip\n",
      "Downloaded td107.zip\n",
      "Downloaded td108.zip\n",
      "Downloaded td109.zip\n",
      "Downloaded td11.zip\n",
      "Downloaded td110.zip\n",
      "Downloaded td111.zip\n",
      "Downloaded td112.zip\n",
      "Downloaded td113.zip\n",
      "Downloaded td114.zip\n",
      "Downloaded td115.zip\n",
      "Downloaded td116.zip\n",
      "Downloaded td117.zip\n",
      "Downloaded td118.zip\n",
      "Downloaded td119.zip\n",
      "Downloaded td012.zip\n",
      "Downloaded td120.zip\n",
      "Downloaded td121.zip\n",
      "Downloaded td122.zip\n",
      "Downloaded td123.zip\n",
      "Downloaded td124.zip\n",
      "Downloaded td125.zip\n",
      "Downloaded td126.zip\n",
      "Downloaded td127.zip\n",
      "Downloaded td128.zip\n",
      "Downloaded td129.zip\n",
      "Downloaded td013.zip\n",
      "Downloaded dt130.zip\n",
      "Downloaded dt131.zip\n",
      "Downloaded td132.zip\n",
      "Downloaded td133.zip\n",
      "Downloaded td134.zip\n",
      "Downloaded tigerdisk135.zip\n",
      "Downloaded tigerdisk136.zip\n",
      "Downloaded tigerdisk137.zip\n",
      "Downloaded tigerdisk138.zip\n",
      "Downloaded td139.zip\n",
      "Downloaded td014.zip\n",
      "Downloaded td140.zip\n",
      "Downloaded tigerdisk141.zip\n",
      "Downloaded tigerdisk142.zip\n",
      "Downloaded tigerdisk143.zip\n",
      "Downloaded tigerdisk144.zip\n",
      "Downloaded td015.zip\n",
      "Downloaded td156.zip\n",
      "Downloaded td157.zip\n",
      "Downloaded td158.zip\n",
      "Downloaded td159.zip\n",
      "Downloaded td016.zip\n",
      "Downloaded td160.zip\n",
      "Downloaded td161.zip\n",
      "Downloaded td162.zip\n",
      "Downloaded td163.zip\n",
      "Downloaded td164.zip\n",
      "Downloaded td165.zip\n",
      "Downloaded td166.zip\n",
      "Downloaded td167.zip\n",
      "Downloaded td168.zip\n",
      "Downloaded 169.rar\n",
      "Downloaded td017.zip\n",
      "Downloaded 170.rar\n",
      "Downloaded tigerdisk171.rar\n",
      "Unable to locate file ?id=97680\n",
      "[Errno 22] Invalid argument: 'disk_images\\\\Tiger-Disk, Tiger Disk\\\\Tiger-disk #171\\\\?id=97680'\n",
      "Downloaded td018.zip\n",
      "Downloaded td019.zip\n",
      "Downloaded tigerdisk002.zip\n",
      "Downloaded td020.zip\n",
      "Downloaded td21.zip\n",
      "Downloaded td021tsi.zip\n",
      "Downloaded td022.zip\n",
      "Downloaded td023.zip\n",
      "Downloaded td024.zip\n",
      "Downloaded td025.zip\n",
      "Downloaded td026.zip\n",
      "Downloaded td27.zip\n",
      "Downloaded td028.zip\n",
      "Downloaded tigerdisk28.zip\n",
      "Downloaded tigerdisk29.zip\n",
      "Downloaded tigerdisk003.zip\n",
      "Downloaded td30a.d64\n",
      "Downloaded td030full.zip\n",
      "Downloaded tigerdisk31.zip\n",
      "Downloaded tigerdisk32.zip\n",
      "Downloaded tigerdisk33.zip\n",
      "Downloaded td34.zip\n",
      "Downloaded td35.zip\n",
      "Downloaded td36.zip\n",
      "Downloaded td37.zip\n",
      "Downloaded td38.zip\n",
      "Downloaded td39.zip\n",
      "Downloaded tigerdisk04.zip\n",
      "Downloaded td40.zip\n",
      "Downloaded td41.zip\n",
      "Downloaded td42.zip\n",
      "Downloaded tigerdisk043.zip\n",
      "Downloaded td044.zip\n",
      "Downloaded td45.zip\n",
      "Downloaded td46.zip\n",
      "Downloaded td47.zip\n",
      "Downloaded td047full.zip\n",
      "Downloaded td48.zip\n",
      "Downloaded td49.zip\n",
      "Downloaded td005.zip\n",
      "Downloaded td50.zip\n",
      "Downloaded td51.zip\n",
      "Downloaded td52.zip\n",
      "Downloaded tigerdisk53.zip\n",
      "Downloaded tigerdisk54.zip\n",
      "Downloaded td55.zip\n",
      "Downloaded td56.zip\n",
      "Downloaded td57.zip\n",
      "Downloaded td58.zip\n",
      "Downloaded td058full.zip\n",
      "Downloaded td59.zip\n",
      "Downloaded td006.zip\n",
      "Downloaded td60.zip\n",
      "Downloaded td61.zip\n",
      "Downloaded td62.zip\n",
      "Downloaded td63.zip\n",
      "Downloaded td64.zip\n",
      "Downloaded td65.zip\n",
      "Downloaded td065full.zip\n",
      "Downloaded td66.zip\n",
      "Downloaded td67.zip\n",
      "Downloaded td68.zip\n",
      "Downloaded td069.zip\n",
      "Downloaded td007.zip\n",
      "Downloaded td070.zip\n",
      "Downloaded td071.zip\n",
      "Downloaded td072.zip\n",
      "Downloaded td073.zip\n",
      "Downloaded td074.zip\n",
      "Downloaded td075.zip\n",
      "Downloaded td076.zip\n",
      "Downloaded td077.zip\n",
      "Downloaded td078.zip\n",
      "Downloaded td079.zip\n",
      "Downloaded td008.zip\n",
      "Downloaded td80.zip\n",
      "Downloaded td81.zip\n",
      "Downloaded td82.zip\n",
      "Downloaded td83.zip\n",
      "Downloaded td84.zip\n",
      "Downloaded td85.zip\n",
      "Downloaded td86.zip\n",
      "Downloaded td87.zip\n",
      "Downloaded td88.zip\n",
      "Downloaded td89.zip\n",
      "Downloaded td009.zip\n",
      "Downloaded td90.zip\n",
      "Downloaded td91.zip\n",
      "Downloaded td92.zip\n",
      "Downloaded td93.zip\n",
      "Downloaded td094.zip\n",
      "Downloaded td95.zip\n",
      "Downloaded td96.zip\n",
      "Downloaded td97.zip\n",
      "Downloaded td98.zip\n",
      "Downloaded td99.zip\n",
      "Downloaded tdbest2.zip\n",
      "Downloaded tigerdisk01english.zip\n",
      "Downloaded tigerdisk02english.zip\n",
      "Downloaded tigerdisk2years.zip\n",
      "Downloaded xdome01.zip\n",
      "Downloaded xdome2.zip\n",
      "Downloaded xdome03.zip\n",
      "Downloaded xdome4.zip\n",
      "Downloaded xdome05.zip\n",
      "Downloaded xdome6.zip\n",
      "Downloaded xdome07.zip\n",
      "Downloaded xdome8.zip\n",
      "Downloaded xdome9.zip\n"
     ]
    }
   ],
   "source": [
    "supplement = []\n",
    "\n",
    "for index, row in subset_issues_german.iterrows():\n",
    "    # Get data\n",
    "    title = row['title']\n",
    "    issue = row['issue']\n",
    "    sanitized_issue = ''.join(c for c in issue if c not in '\\/:*?<>|')\n",
    "    platform = row['platform']\n",
    "    download_urls = row['download_links']\n",
    "\n",
    "    # Create folder for each magazine\n",
    "    path_magazine = os.path.join('disk_images', title)\n",
    "    if not os.path.exists(path_magazine):\n",
    "        os.mkdir(path_magazine)\n",
    "\n",
    "    # Check download links, if empty -> skip iteration\n",
    "    if isinstance(download_urls, str):\n",
    "        download_urls = [elem for elem in download_urls.split(', ') if not elem.startswith('ftp')]\n",
    "    else:\n",
    "        continue\n",
    "\n",
    "    # Create folder for the issue\n",
    "    path_magazine_issue = os.path.join(path_magazine, sanitized_issue)\n",
    "    if not os.path.exists(path_magazine_issue):\n",
    "        os.mkdir(path_magazine_issue)\n",
    "\n",
    "    files = set()\n",
    "    used_urls = []\n",
    "    for url in download_urls:\n",
    "        #parsed_url = urlparse(url)\n",
    "        #file_name = os.path.basename(parsed_url.path)\n",
    "        #file_name = re.sub(r'[%#_-]+', '', file_name).lower()\n",
    "        file_name = os.path.basename(url)\n",
    "        file_name = re.sub(r'[\\s%#_-]+', '', file_name).lower()\n",
    "        if file_name in files:\n",
    "            continue\n",
    "        files.add(file_name)\n",
    "        try:\n",
    "            response = requests.get(url, allow_redirects=True)\n",
    "            if response.status_code == 200:\n",
    "                file_path = os.path.join(path_magazine_issue, file_name)\n",
    "                with open(file_path, 'wb') as file:\n",
    "                    file.write(response.content)\n",
    "                print(f'Downloaded {file_name}')\n",
    "                files.add(file_name)\n",
    "                used_urls.append(url)\n",
    "            else:\n",
    "                print(f'Failed to download {file_name}')\n",
    "        except (ConnectionError, OSError) as e:\n",
    "            print(f'Unable to locate file {file_name}\\n{e}\\n')\n",
    "\n",
    "    # Track donwloaded files\n",
    "    files = ', '.join(files)\n",
    "    used_urls = ', '.join(used_urls)\n",
    "    record = {'title': title, 'issue': issue, 'files': files, 'urls': used_urls, 'system': platform}\n",
    "    supplement.append(record)\n",
    "\n",
    "\n",
    "# Save the records to a CSV files\n",
    "df_downloads = pd.DataFrame(supplement)\n",
    "df_downloads = df_downloads.sort_values('issue', key=lambda x: x.str.lower()) # Sort by title\n",
    "df_downloads.to_csv('disk_images/downloaded_files.csv', index=False)"
   ],
   "metadata": {
    "collapsed": false,
    "ExecuteTime": {
     "end_time": "2024-02-07T22:44:37.060665500Z",
     "start_time": "2024-02-07T22:35:26.828093800Z"
    }
   },
   "id": "e2cb13e9691bca5d",
   "execution_count": 10
  },
  {
   "cell_type": "markdown",
   "source": [
    "# 4. Delete empty folders"
   ],
   "metadata": {
    "collapsed": false
   },
   "id": "f392f72ba4b52338"
  },
  {
   "cell_type": "code",
   "outputs": [
    {
     "name": "stdout",
     "output_type": "stream",
     "text": [
      "disk_images\\Digital Talk\\Digital Talk #01\n",
      "disk_images\\Digital Talk\\Digital Talk #06\n",
      "disk_images\\Digital Talk\\Digital Talk #07\n",
      "disk_images\\Digital Talk\\Digital Talk #08\n",
      "disk_images\\Digital Talk\\Digital Talk #11\n",
      "disk_images\\Digital Talk\\Digital Talk #12\n",
      "disk_images\\Digital Talk\\Digital Talk #46\n",
      "disk_images\\Digital Talk\\digital talk #56\n",
      "disk_images\\Digital Talk\\Digital Talk #57\n",
      "disk_images\\Digital Talk\\Digital Talk #59\n",
      "disk_images\\Digital Talk\\Digital Talk #61\n",
      "disk_images\\Digital Talk\\Digital Talk #62 (Green Tears)\n",
      "disk_images\\Digital Talk\\Digital Talk #74\n",
      "disk_images\\Scene World\\Scene World #11\n",
      "disk_images\\Scene World\\Scene World #7\n",
      "disk_images\\Scene World\\Scene World #8\n",
      "disk_images\\Scene World\\Scene World #9\n",
      "disk_images\\Tiger-Disk, Tiger Disk\\Tiger Disk #01\n",
      "disk_images\\Tiger-Disk, Tiger Disk\\Tiger Disk #02\n",
      "disk_images\\Tiger-Disk, Tiger Disk\\tiger disk #98\n"
     ]
    }
   ],
   "source": [
    "path = 'disk_images'\n",
    "# Iterate over magazines\n",
    "for magazine in os.listdir(path):\n",
    "    magazine_path = os.path.join(path, magazine)\n",
    "    if os.path.isdir(magazine_path):\n",
    "        # Iterate over issues\n",
    "        for issue in os.listdir(magazine_path):\n",
    "            issue_path = os.path.join(magazine_path, issue)\n",
    "            if os.path.isdir(issue_path):\n",
    "                if not os.listdir(issue_path):\n",
    "                    print(issue_path)\n",
    "                    os.rmdir(issue_path)"
   ],
   "metadata": {
    "collapsed": false,
    "ExecuteTime": {
     "end_time": "2024-02-07T22:44:37.126229400Z",
     "start_time": "2024-02-07T22:44:37.063199100Z"
    }
   },
   "id": "cff47dd13474484b",
   "execution_count": 11
  },
  {
   "cell_type": "markdown",
   "source": [
    "# 5. Unpack zips"
   ],
   "metadata": {
    "collapsed": false
   },
   "id": "cdc2ca49c17e689a"
  },
  {
   "cell_type": "code",
   "outputs": [],
   "source": [
    "corpus = Corpus(corpus_name='german diskmags', corpus_path=r'../data/disk_images')"
   ],
   "metadata": {
    "collapsed": false,
    "ExecuteTime": {
     "end_time": "2024-02-07T22:44:37.179871Z",
     "start_time": "2024-02-07T22:44:37.124234Z"
    }
   },
   "id": "14b6e39736de4a15",
   "execution_count": 12
  },
  {
   "cell_type": "code",
   "outputs": [
    {
     "name": "stderr",
     "output_type": "stream",
     "text": [
      "Unpacking .zip files:   3%|▎         | 14/499 [00:00<00:07, 66.61file/s]"
     ]
    },
    {
     "name": "stdout",
     "output_type": "stream",
     "text": [
      "Unable to open the archive \"digitaltalk50.zip\": File is not a zip file\n",
      "Unable to open the archive \"digitaltalk29.zip\": File is not a zip file\n"
     ]
    },
    {
     "name": "stderr",
     "output_type": "stream",
     "text": [
      "Unpacking .zip files:   9%|▉         | 46/499 [00:00<00:09, 49.92file/s]"
     ]
    },
    {
     "name": "stdout",
     "output_type": "stream",
     "text": [
      "Unable to open the archive \"digitaltalk30.zip\": File is not a zip file\n",
      "Unable to open the archive \"digitaltalk34.zip\": File is not a zip file\n"
     ]
    },
    {
     "name": "stderr",
     "output_type": "stream",
     "text": [
      "Unpacking .zip files:  13%|█▎        | 64/499 [00:01<00:08, 52.06file/s]"
     ]
    },
    {
     "name": "stdout",
     "output_type": "stream",
     "text": [
      "Unable to open the archive \"digitaltalk51.zip\": File is not a zip file\n",
      "Unable to open the archive \"digitaltalk24.zip\": File is not a zip file\n",
      "Unable to open the archive \"digitaltalk48.zip\": File is not a zip file\n"
     ]
    },
    {
     "name": "stderr",
     "output_type": "stream",
     "text": [
      "Unpacking .zip files:  17%|█▋        | 87/499 [00:01<00:08, 48.07file/s]"
     ]
    },
    {
     "name": "stdout",
     "output_type": "stream",
     "text": [
      "Unable to open the archive \"swo30all.zip\": That compression method is not supported\n",
      "Unable to open the archive \"digitaltalk19.zip\": File is not a zip file\n"
     ]
    },
    {
     "name": "stderr",
     "output_type": "stream",
     "text": [
      "Unpacking .zip files:  28%|██▊       | 139/499 [00:02<00:08, 44.16file/s]"
     ]
    },
    {
     "name": "stdout",
     "output_type": "stream",
     "text": [
      "Unable to open the archive \"digitaltalk28.zip\": File is not a zip file\n"
     ]
    },
    {
     "name": "stderr",
     "output_type": "stream",
     "text": [
      "Unpacking .zip files:  30%|███       | 150/499 [00:03<00:07, 44.15file/s]"
     ]
    },
    {
     "name": "stdout",
     "output_type": "stream",
     "text": [
      "Unable to open the archive \"digitaltalk22.zip\": File is not a zip file\n"
     ]
    },
    {
     "name": "stderr",
     "output_type": "stream",
     "text": [
      "Unpacking .zip files:  32%|███▏      | 160/499 [00:03<00:08, 38.60file/s]"
     ]
    },
    {
     "name": "stdout",
     "output_type": "stream",
     "text": [
      "Unable to open the archive \"digitaltalk49.zip\": File is not a zip file\n",
      "Unable to open the archive \"digitaltalk39.zip\": File is not a zip file\n",
      "Unable to open the archive \"digitaltalk53.zip\": File is not a zip file\n"
     ]
    },
    {
     "name": "stderr",
     "output_type": "stream",
     "text": [
      "Unpacking .zip files:  35%|███▌      | 175/499 [00:03<00:08, 38.70file/s]"
     ]
    },
    {
     "name": "stdout",
     "output_type": "stream",
     "text": [
      "Unable to open the archive \"digitaltalk43.zip\": File is not a zip file\n",
      "Unable to open the archive \"digitaltalk20.zip\": File is not a zip file\n",
      "Unable to open the archive \"swo28.zip\": That compression method is not supported\n"
     ]
    },
    {
     "name": "stderr",
     "output_type": "stream",
     "text": [
      "Unpacking .zip files:  37%|███▋      | 185/499 [00:04<00:08, 38.74file/s]"
     ]
    },
    {
     "name": "stdout",
     "output_type": "stream",
     "text": [
      "Unable to open the archive \"digitaltalk14.zip\": File is not a zip file\n"
     ]
    },
    {
     "name": "stderr",
     "output_type": "stream",
     "text": [
      "Unpacking .zip files:  38%|███▊      | 191/499 [00:04<00:07, 41.64file/s]"
     ]
    },
    {
     "name": "stdout",
     "output_type": "stream",
     "text": [
      "Unable to open the archive \"digitaltalk37.zip\": File is not a zip file\n"
     ]
    },
    {
     "name": "stderr",
     "output_type": "stream",
     "text": [
      "Unpacking .zip files:  43%|████▎     | 216/499 [00:04<00:06, 41.39file/s]"
     ]
    },
    {
     "name": "stdout",
     "output_type": "stream",
     "text": [
      "Unable to open the archive \"digitaltalk17.zip\": File is not a zip file\n"
     ]
    },
    {
     "name": "stderr",
     "output_type": "stream",
     "text": [
      "Unpacking .zip files:  47%|████▋     | 233/499 [00:05<00:05, 48.88file/s]"
     ]
    },
    {
     "name": "stdout",
     "output_type": "stream",
     "text": [
      "Unable to open the archive \"digitaltalk18.zip\": File is not a zip file\n"
     ]
    },
    {
     "name": "stderr",
     "output_type": "stream",
     "text": [
      "Unpacking .zip files:  51%|█████     | 253/499 [00:05<00:05, 42.70file/s]"
     ]
    },
    {
     "name": "stdout",
     "output_type": "stream",
     "text": [
      "Unable to open the archive \"digitaltalk26.zip\": File is not a zip file\n",
      "Unable to open the archive \"digitaltalk52.zip\": File is not a zip file\n"
     ]
    },
    {
     "name": "stderr",
     "output_type": "stream",
     "text": [
      "Unpacking .zip files:  54%|█████▎    | 268/499 [00:06<00:05, 40.50file/s]"
     ]
    },
    {
     "name": "stdout",
     "output_type": "stream",
     "text": [
      "Unable to open the archive \"digitaltalk41.zip\": File is not a zip file\n"
     ]
    },
    {
     "name": "stderr",
     "output_type": "stream",
     "text": [
      "Unpacking .zip files:  58%|█████▊    | 287/499 [00:06<00:05, 38.55file/s]"
     ]
    },
    {
     "name": "stdout",
     "output_type": "stream",
     "text": [
      "Unable to open the archive \"digitaltalk16.zip\": File is not a zip file\n"
     ]
    },
    {
     "name": "stderr",
     "output_type": "stream",
     "text": [
      "Unpacking .zip files:  62%|██████▏   | 311/499 [00:07<00:05, 35.66file/s]"
     ]
    },
    {
     "name": "stdout",
     "output_type": "stream",
     "text": [
      "Unable to open the archive \"digitaltalk35.zip\": File is not a zip file\n"
     ]
    },
    {
     "name": "stderr",
     "output_type": "stream",
     "text": [
      "Unpacking .zip files:  64%|██████▍   | 321/499 [00:07<00:04, 39.83file/s]"
     ]
    },
    {
     "name": "stdout",
     "output_type": "stream",
     "text": [
      "Unable to open the archive \"digitaltalk27.zip\": File is not a zip file\n",
      "Unable to open the archive \"digitaltalk38.zip\": File is not a zip file\n"
     ]
    },
    {
     "name": "stderr",
     "output_type": "stream",
     "text": [
      "Unpacking .zip files:  76%|███████▌  | 378/499 [00:08<00:02, 44.13file/s]"
     ]
    },
    {
     "name": "stdout",
     "output_type": "stream",
     "text": [
      "Unable to open the archive \"swo30.zip\": That compression method is not supported\n",
      "Unable to open the archive \"digitaltalk13.zip\": File is not a zip file\n"
     ]
    },
    {
     "name": "stderr",
     "output_type": "stream",
     "text": [
      "Unpacking .zip files:  85%|████████▍ | 422/499 [00:09<00:01, 51.14file/s]"
     ]
    },
    {
     "name": "stdout",
     "output_type": "stream",
     "text": [
      "Unable to open the archive \"swo29.zip\": That compression method is not supported\n"
     ]
    },
    {
     "name": "stderr",
     "output_type": "stream",
     "text": [
      "Unpacking .zip files:  93%|█████████▎| 466/499 [00:10<00:00, 42.76file/s]"
     ]
    },
    {
     "name": "stdout",
     "output_type": "stream",
     "text": [
      "Unable to open the archive \"digitaltalk15.zip\": File is not a zip file\n"
     ]
    },
    {
     "name": "stderr",
     "output_type": "stream",
     "text": [
      "Unpacking .zip files: 100%|██████████| 499/499 [00:12<00:00, 41.32file/s]\n"
     ]
    }
   ],
   "source": [
    "corpus.unpack(remove_zip=True)"
   ],
   "metadata": {
    "collapsed": false,
    "ExecuteTime": {
     "end_time": "2024-02-07T22:44:49.395336300Z",
     "start_time": "2024-02-07T22:44:37.139747900Z"
    }
   },
   "id": "53b6d0c3b719c32",
   "execution_count": 13
  },
  {
   "cell_type": "code",
   "outputs": [
    {
     "name": "stdout",
     "output_type": "stream",
     "text": [
      "disk_images\\Digital Talk\\Digital Talk #13\n",
      "disk_images\\Digital Talk\\Digital Talk #14\n",
      "disk_images\\Digital Talk\\Digital Talk #15\n",
      "disk_images\\Digital Talk\\Digital Talk #16\n",
      "disk_images\\Digital Talk\\Digital Talk #17\n",
      "disk_images\\Digital Talk\\Digital Talk #18\n",
      "disk_images\\Digital Talk\\Digital Talk #19\n",
      "disk_images\\Digital Talk\\Digital Talk #20\n",
      "disk_images\\Digital Talk\\Digital Talk #22\n",
      "disk_images\\Digital Talk\\Digital Talk #24\n",
      "disk_images\\Digital Talk\\Digital Talk #26\n",
      "disk_images\\Digital Talk\\Digital Talk #27\n",
      "disk_images\\Digital Talk\\Digital Talk #28\n",
      "disk_images\\Digital Talk\\Digital Talk #29\n",
      "disk_images\\Digital Talk\\Digital Talk #30\n",
      "disk_images\\Digital Talk\\Digital Talk #34\n",
      "disk_images\\Digital Talk\\Digital Talk #35\n",
      "disk_images\\Digital Talk\\Digital Talk #37\n",
      "disk_images\\Digital Talk\\Digital Talk #38\n",
      "disk_images\\Digital Talk\\Digital Talk #39\n",
      "disk_images\\Digital Talk\\Digital Talk #41\n",
      "disk_images\\Digital Talk\\Digital Talk #43\n",
      "disk_images\\Digital Talk\\Digital Talk #48\n",
      "disk_images\\Digital Talk\\Digital Talk #49\n",
      "disk_images\\Digital Talk\\Digital Talk #50 (Golden DT)\n",
      "disk_images\\Digital Talk\\Digital Talk #51\n",
      "disk_images\\Digital Talk\\Digital Talk #52\n",
      "disk_images\\Digital Talk\\Digital Talk #53\n",
      "disk_images\\Scene World\\Scene World #28\n",
      "disk_images\\Scene World\\Scene World #29\n",
      "disk_images\\Scene World\\Scene World #30\n"
     ]
    }
   ],
   "source": [
    "path = 'disk_images'\n",
    "# Iterate over magazines\n",
    "for magazine in os.listdir(path):\n",
    "    magazine_path = os.path.join(path, magazine)\n",
    "    if os.path.isdir(magazine_path):\n",
    "        # Iterate over issues\n",
    "        for issue in os.listdir(magazine_path):\n",
    "            issue_path = os.path.join(magazine_path, issue)\n",
    "            if os.path.isdir(issue_path):\n",
    "                if not os.listdir(issue_path):\n",
    "                    print(issue_path)\n",
    "                    os.rmdir(issue_path)"
   ],
   "metadata": {
    "collapsed": false,
    "ExecuteTime": {
     "end_time": "2024-02-07T22:44:49.504653600Z",
     "start_time": "2024-02-07T22:44:49.397337900Z"
    }
   },
   "id": "369c99991dea5ded",
   "execution_count": 14
  },
  {
   "cell_type": "code",
   "outputs": [],
   "source": [],
   "metadata": {
    "collapsed": false,
    "ExecuteTime": {
     "end_time": "2024-02-07T22:44:49.522802400Z",
     "start_time": "2024-02-07T22:44:49.507649600Z"
    }
   },
   "id": "5d2669214977d2b9",
   "execution_count": 14
  }
 ],
 "metadata": {
  "kernelspec": {
   "display_name": "Python 3",
   "language": "python",
   "name": "python3"
  },
  "language_info": {
   "codemirror_mode": {
    "name": "ipython",
    "version": 2
   },
   "file_extension": ".py",
   "mimetype": "text/x-python",
   "name": "python",
   "nbconvert_exporter": "python",
   "pygments_lexer": "ipython2",
   "version": "2.7.6"
  }
 },
 "nbformat": 4,
 "nbformat_minor": 5
}
